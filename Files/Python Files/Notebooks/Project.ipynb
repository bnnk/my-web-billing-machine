{
 "cells": [
  {
   "cell_type": "code",
   "execution_count": null,
   "metadata": {},
   "outputs": [
    {
     "name": "stdout",
     "output_type": "stream",
     "text": [
      "{' 09 Corvette ZRI ': 19, 'Aston Martin Rapide E': 59, 'Cupra Tavascan': 59, 'Dacia Swift': 99, 'Eclipse Intuit phone': 23, 'Glass Phone': 91, 'Honda E': 51, 'Hyperloop train': 94, 'Hyundai Kona EV': 45, 'Icare Motorcycle Concept': 56, 'Infiniti QX Inspiration': 65, 'Kambala Ear-Phone': 15, 'Kyocera’s EOS folding concept': 69, 'Lexus LC500': 16, 'Lexus LF-30 EV': 11, 'Lotus Evija': 95, 'Mercedes-Benz Future Bus': 59, 'Mini Cooper SE': 34, 'Mooon concept phone': 7, 'Motorola Piccolo Concept 1 Cell Phone': 85, 'Motorola Sparrow': 83, 'Nanokia': 27, 'Neva Aerospace AirQuadOne': 43, 'Nokia Morph Concept Cellphone': 30, 'Olli Concept Bus': 40, 'Organic Transit ELF': 99, 'Phlips Fluid Flexible Concept Phone': 27, 'Porsche Boxter': 23, 'Renault Twizy': 19, 'Rolls Royce Vision Next 100': 25, 'Seat El-Born': 45, 'Seat Minimó': 48, 'Suzuki Nexa Future S': 81, 'Suzuki Survior EV': 53, 'Tesla Model X': 27, 'Transit Elevated Bus': 52, 'Wolkswagen ID.3': 60}\n",
      " * Serving Flask app \"__main__\" (lazy loading)\n",
      " * Environment: production\n",
      "   WARNING: This is a development server. Do not use it in a production deployment.\n",
      "   Use a production WSGI server instead.\n",
      " * Debug mode: off\n"
     ]
    },
    {
     "name": "stderr",
     "output_type": "stream",
     "text": [
      " * Running on http://127.0.0.1:5000/ (Press CTRL+C to quit)\n",
      "127.0.0.1 - - [03/Nov/2019 11:08:21] \"GET / HTTP/1.1\" 200 -\n",
      "127.0.0.1 - - [03/Nov/2019 11:08:22] \"GET /favicon.ico HTTP/1.1\" 200 -\n",
      "127.0.0.1 - - [03/Nov/2019 11:08:22] \"GET /buy HTTP/1.1\" 200 -\n",
      "127.0.0.1 - - [03/Nov/2019 11:08:33] \"POST /buy-post HTTP/1.1\" 200 -\n"
     ]
    },
    {
     "name": "stdout",
     "output_type": "stream",
     "text": [
      "Points = 78\n"
     ]
    },
    {
     "name": "stderr",
     "output_type": "stream",
     "text": [
      "127.0.0.1 - - [03/Nov/2019 11:08:39] \"GET /buy HTTP/1.1\" 200 -\n",
      "127.0.0.1 - - [03/Nov/2019 11:08:44] \"GET / HTTP/1.1\" 200 -\n",
      "127.0.0.1 - - [03/Nov/2019 11:08:44] \"GET /favicon.ico HTTP/1.1\" 200 -\n",
      "127.0.0.1 - - [03/Nov/2019 11:08:45] \"GET /buy HTTP/1.1\" 200 -\n",
      "127.0.0.1 - - [03/Nov/2019 11:08:51] \"GET / HTTP/1.1\" 200 -\n",
      "127.0.0.1 - - [03/Nov/2019 11:08:51] \"GET /favicon.ico HTTP/1.1\" 200 -\n",
      "127.0.0.1 - - [03/Nov/2019 11:08:52] \"GET /buy HTTP/1.1\" 200 -\n",
      "127.0.0.1 - - [03/Nov/2019 11:09:02] \"GET /buy HTTP/1.1\" 200 -\n",
      "127.0.0.1 - - [03/Nov/2019 11:09:06] \"GET / HTTP/1.1\" 200 -\n",
      "127.0.0.1 - - [03/Nov/2019 11:09:07] \"GET /favicon.ico HTTP/1.1\" 200 -\n",
      "127.0.0.1 - - [03/Nov/2019 11:09:07] \"GET /buy HTTP/1.1\" 200 -\n",
      "127.0.0.1 - - [03/Nov/2019 11:09:53] \"POST /buy-post HTTP/1.1\" 200 -\n"
     ]
    },
    {
     "name": "stdout",
     "output_type": "stream",
     "text": [
      "Points = 654\n"
     ]
    }
   ],
   "source": [
    "import os,time,random,re\n",
    "import webbrowser as wb\n",
    "from flask import Flask, render_template, request\n",
    "app = Flask(__name__, template_folder='templates')\n",
    "Future_list=['Aston Martin Rapide E','Suzuki Nexa Future S','Tesla Model X','Hyundai Kona EV',''' 09 Corvette ZRI ''',\n",
    "             'Porsche Boxter','Dacia Swift','Renault Twizy','Rolls Royce Vision Next 100',\n",
    "               'Cupra Tavascan','Honda E','Infiniti QX Inspiration', 'Mini Cooper SE', 'Wolkswagen ID.3', 'Seat El-Born','Lotus Evija',\n",
    "              'Suzuki Survior EV','Lexus LC500','Lexus LF-30 EV','Mercedes-Benz Future Bus','Olli Concept Bus',\n",
    "              'Transit Elevated Bus','Hyperloop train','Neva Aerospace AirQuadOne','Icare Motorcycle Concept',\n",
    "              'Seat Minimó','Organic Transit ELF','Kyocera’s EOS folding concept','Motorola Piccolo Concept 1 Cell Phone',\n",
    "               'Eclipse Intuit phone','Kambala Ear-Phone','Nanokia','Motorola Sparrow','Nokia Morph Concept Cellphone',\n",
    "                'Mooon concept phone','Phlips Fluid Flexible Concept Phone','Glass Phone']\n",
    "Future_list.sort()\n",
    "random.seed(100)\n",
    "Future_list_dict={Future_list[i]: random.randint(1,100) for i in range(len(Future_list))}\n",
    "print(Future_list_dict)\n",
    "@app.route('/',methods=['GET','POST','PUT']) \n",
    "def homepage_base(): \n",
    "    return render_template('redirector.html')\n",
    "@app.route('/buy',methods=['GET','POST','PUT']) \n",
    "def homepage(): \n",
    "    return render_template(\"List.html\", len = len(Future_list), Vehicles_list = Future_list,lst=list(Future_list_dict.values()))\n",
    "@app.route('/buy-post',methods=['POST']) \n",
    "def homepage_post():\n",
    "    y=re.split(\"\\[\", request.form['choosen'])\n",
    "    y=\"\".join(y)\n",
    "    y=re.split(\"\\]\", y)\n",
    "    y=y[:len(y)-1]\n",
    "    cost=0\n",
    "    for i in range(0,len(y)):\n",
    "        cost = cost + Future_list_dict[y[i]]\n",
    "    print('Points = %d' % cost)\n",
    "    Text = \"Received Order [\"+request.form['choosen']+\"] Cost is [\"+str(cost)+\"]\"\n",
    "    return render_template('task.html', txt = Text)\n",
    "@app.route('/rev-project',methods=['GET','POST','PUT'])\n",
    "def project():\n",
    "    time.sleep(0.19)\n",
    "    os.system('''\"C:\\Program Files (x86)\\Google\\Chrome\\Application\\chrome_proxy.exe\" --profile-directory=Default --app-id=icnbpeblemailjmcmfkccklodhagdbpg''')\n",
    "    return 'Starting app...'\n",
    "@app.errorhandler(404)\n",
    "def not_found(e): \n",
    "    return '<a href = http://127.0.0.1:5000/buy>You will be redirected.Click Me</a>'\n",
    "wb.open_new_tab('127.0.0.1:5000')\n",
    "app.run(host= None)   "
   ]
  }
 ],
 "metadata": {
  "kernelspec": {
   "display_name": "Python 3",
   "language": "python",
   "name": "python3"
  },
  "language_info": {
   "codemirror_mode": {
    "name": "ipython",
    "version": 3
   },
   "file_extension": ".py",
   "mimetype": "text/x-python",
   "name": "python",
   "nbconvert_exporter": "python",
   "pygments_lexer": "ipython3",
   "version": "3.7.3"
  }
 },
 "nbformat": 4,
 "nbformat_minor": 2
}
